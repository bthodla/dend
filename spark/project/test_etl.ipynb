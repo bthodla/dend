{
 "cells": [
  {
   "cell_type": "code",
   "execution_count": 8,
   "metadata": {
    "editable": true
   },
   "outputs": [],
   "source": [
    "import configparser\n",
    "from datetime import datetime\n",
    "import os\n",
    "from pyspark.sql import SparkSession\n",
    "from pyspark.sql.functions import udf, col\n",
    "from pyspark.sql.functions import hour, dayofmonth, month, year, weekofyear, dayofweek, date_format\n",
    "from pyspark.sql.functions import monotonically_increasing_id\n",
    "from pyspark.sql.types import StructType as St, StructField as Sf, DoubleType as Dbl, StringType as Str, IntegerType as Int, DateType as Dt, TimestampType\n"
   ]
  },
  {
   "cell_type": "code",
   "execution_count": 9,
   "metadata": {
    "editable": true
   },
   "outputs": [
    {
     "name": "stdout",
     "output_type": "stream",
     "text": [
      "<configparser.ConfigParser object at 0x7f7867117fd0>\n"
     ]
    },
    {
     "ename": "KeyError",
     "evalue": "'AWS_ACCESS_KEY_ID'",
     "output_type": "error",
     "traceback": [
      "\u001b[0;31m---------------------------------------------------------------------------\u001b[0m",
      "\u001b[0;31mKeyError\u001b[0m                                  Traceback (most recent call last)",
      "\u001b[0;32m<ipython-input-9-05a39db35849>\u001b[0m in \u001b[0;36m<module>\u001b[0;34m()\u001b[0m\n\u001b[1;32m      4\u001b[0m \u001b[0mprint\u001b[0m \u001b[0;34m(\u001b[0m\u001b[0mconfig\u001b[0m\u001b[0;34m)\u001b[0m\u001b[0;34m\u001b[0m\u001b[0m\n\u001b[1;32m      5\u001b[0m \u001b[0;34m\u001b[0m\u001b[0m\n\u001b[0;32m----> 6\u001b[0;31m \u001b[0mos\u001b[0m\u001b[0;34m.\u001b[0m\u001b[0menviron\u001b[0m\u001b[0;34m[\u001b[0m\u001b[0;34m'AWS_ACCESS_KEY_ID'\u001b[0m\u001b[0;34m]\u001b[0m\u001b[0;34m=\u001b[0m\u001b[0mconfig\u001b[0m\u001b[0;34m[\u001b[0m\u001b[0;34m'AWS_ACCESS_KEY_ID'\u001b[0m\u001b[0;34m]\u001b[0m\u001b[0;34m\u001b[0m\u001b[0m\n\u001b[0m\u001b[1;32m      7\u001b[0m \u001b[0mos\u001b[0m\u001b[0;34m.\u001b[0m\u001b[0menviron\u001b[0m\u001b[0;34m[\u001b[0m\u001b[0;34m'AWS_SECRET_ACCESS_KEY'\u001b[0m\u001b[0;34m]\u001b[0m\u001b[0;34m=\u001b[0m\u001b[0mconfig\u001b[0m\u001b[0;34m[\u001b[0m\u001b[0;34m'AWS_SECRET_ACCESS_KEY'\u001b[0m\u001b[0;34m]\u001b[0m\u001b[0;34m\u001b[0m\u001b[0m\n",
      "\u001b[0;32m/opt/conda/lib/python3.6/configparser.py\u001b[0m in \u001b[0;36m__getitem__\u001b[0;34m(self, key)\u001b[0m\n\u001b[1;32m    957\u001b[0m     \u001b[0;32mdef\u001b[0m \u001b[0m__getitem__\u001b[0m\u001b[0;34m(\u001b[0m\u001b[0mself\u001b[0m\u001b[0;34m,\u001b[0m \u001b[0mkey\u001b[0m\u001b[0;34m)\u001b[0m\u001b[0;34m:\u001b[0m\u001b[0;34m\u001b[0m\u001b[0m\n\u001b[1;32m    958\u001b[0m         \u001b[0;32mif\u001b[0m \u001b[0mkey\u001b[0m \u001b[0;34m!=\u001b[0m \u001b[0mself\u001b[0m\u001b[0;34m.\u001b[0m\u001b[0mdefault_section\u001b[0m \u001b[0;32mand\u001b[0m \u001b[0;32mnot\u001b[0m \u001b[0mself\u001b[0m\u001b[0;34m.\u001b[0m\u001b[0mhas_section\u001b[0m\u001b[0;34m(\u001b[0m\u001b[0mkey\u001b[0m\u001b[0;34m)\u001b[0m\u001b[0;34m:\u001b[0m\u001b[0;34m\u001b[0m\u001b[0m\n\u001b[0;32m--> 959\u001b[0;31m             \u001b[0;32mraise\u001b[0m \u001b[0mKeyError\u001b[0m\u001b[0;34m(\u001b[0m\u001b[0mkey\u001b[0m\u001b[0;34m)\u001b[0m\u001b[0;34m\u001b[0m\u001b[0m\n\u001b[0m\u001b[1;32m    960\u001b[0m         \u001b[0;32mreturn\u001b[0m \u001b[0mself\u001b[0m\u001b[0;34m.\u001b[0m\u001b[0m_proxies\u001b[0m\u001b[0;34m[\u001b[0m\u001b[0mkey\u001b[0m\u001b[0;34m]\u001b[0m\u001b[0;34m\u001b[0m\u001b[0m\n\u001b[1;32m    961\u001b[0m \u001b[0;34m\u001b[0m\u001b[0m\n",
      "\u001b[0;31mKeyError\u001b[0m: 'AWS_ACCESS_KEY_ID'"
     ]
    }
   ],
   "source": [
    "config = configparser.ConfigParser()\n",
    "config.read('dl.cfg')\n",
    "\n",
    "print (config)\n",
    "\n",
    "os.environ['AWS_ACCESS_KEY_ID']=config['AWS_ACCESS_KEY_ID']\n",
    "os.environ['AWS_SECRET_ACCESS_KEY']=config['AWS_SECRET_ACCESS_KEY']\n"
   ]
  },
  {
   "cell_type": "code",
   "execution_count": 10,
   "metadata": {
    "editable": true
   },
   "outputs": [],
   "source": [
    "def create_spark_session():\n",
    "    spark = SparkSession \\\n",
    "        .builder \\\n",
    "        .config(\"spark.jars.packages\", \"org.apache.hadoop:hadoop-aws:2.7.0\") \\\n",
    "        .getOrCreate()\n",
    "    return spark\n"
   ]
  },
  {
   "cell_type": "code",
   "execution_count": 11,
   "metadata": {
    "editable": true
   },
   "outputs": [],
   "source": [
    "def process_song_data(spark, input_data, output_data):\n",
    "    # get filepath to song data file\n",
    "    song_data_files = input_data + \"*/*/*/*.json\"\n",
    "    \n",
    "    # read song data file\n",
    "    song_data_df = spark.read.json(song_data_files).dropDuplicates()\n",
    "\n",
    "    # extract columns to create songs table\n",
    "    songs_columns = [\"title\", \"artist_id\", \"year\", \"duration\"]\n",
    "    \n",
    "    # write songs table to parquet files partitioned by year and artist\n",
    "    songs_table = song_data_df.select(songs_columns).dropDuplicates().withColumn(\"song_id\", monotonically_increasing_id())\n",
    "    songs_table.write.partitionBy(\"year\", \"artist_id\").parquet(output_data + 'songs/')\n",
    "\n",
    "    # extract columns to create artists table\n",
    "    artists_columns = [\"artist_id\", \"artist_name\", \"artist_location\", \"artist_latitude\", \"artist_longitude\"]\n",
    "    \n",
    "    # write artists table to parquet files\n",
    "    artists_table = song_data_df.selectExpr(artists_columns).dropDuplicates()\n",
    "    artists_table.write.parquet(output_data + 'artists/')\n",
    "\n",
    "    song_data_df.createOrReplaceTempView(\"song_table_tmp_df\")\n"
   ]
  },
  {
   "cell_type": "code",
   "execution_count": 23,
   "metadata": {
    "editable": true
   },
   "outputs": [],
   "source": [
    "def process_log_data(spark, input_data, output_data):\n",
    "    # get filepath to log data file\n",
    "    log_data = input_data + \"*/*/*.json\"\n",
    "    # log_data_files = input_data + \"/*.json\"\n",
    "\n",
    "    # read log data file\n",
    "    log_data_df = spark.read.json(log_data_files)\n",
    "    \n",
    "    # filter by actions for song plays\n",
    "    log_data_df = log_data_df.filter(log_data_df.page == 'NextSong')\n",
    "\n",
    "    # extract columns for users table    \n",
    "    users_columns = [\"userId as user_id\", \"firstName as first_name\", \"lastName as last_name\", \"gender\", \"level\"]\n",
    "    users_table = log_data_df.selectExpr(users_columns).dropDuplicates()\n",
    "    \n",
    "    # write users table to parquet files\n",
    "    users_table.write.parquet(output_data + 'users/')\n",
    "\n",
    "    # create timestamp column from original timestamp column\n",
    "    get_timestamp = udf(lambda x: datetime.fromtimestamp(x / 1000), TimestampType())\n",
    "    log_data_df = log_data_df.withColumn(\"timestamp\", get_timestamp(col(\"ts\")))\n",
    "    \n",
    "    # create datetime column from original timestamp column\n",
    "    log_data_df = log_data_df.withColumn(\"start_time\", get_timestamp(col(\"ts\")))\n",
    "    \n",
    "    # extract columns to create time table\n",
    "    log_data_df = log_data_df.withColumn(\"hour\", hour(\"timestamp\"))\n",
    "    log_data_df = log_data_df.withColumn(\"day\", dayofmonth(\"timestamp\"))\n",
    "    log_data_df = log_data_df.withColumn(\"month\", month(\"timestamp\"))\n",
    "    log_data_df = log_data_df.withColumn(\"year\", year(\"timestamp\"))\n",
    "    log_data_df = log_data_df.withColumn(\"week\", weekofyear(\"timestamp\"))\n",
    "    log_data_df = log_data_df.withColumn(\"weekday\", dayofweek(\"timestamp\"))\n",
    "\n",
    "    time_table = log_data_df.select(col(\"start_time\"), col(\"hour\"), col(\"day\"), col(\"month\"), col(\"year\"), col(\"week\"), col(\"weekday\")).distinct()\n",
    "    \n",
    "    # write time table to parquet files partitioned by year and month\n",
    "    time_table.write.partitionBy(\"year\", \"month\").parquet(output_data + 'time/')\n",
    "\n",
    "    # read in song data to use for songplays table\n",
    "    song_df = spark.sql(\"select distinct song_id, artist_id, artist_name from song_table_tmp_df\")\n",
    "\n",
    "    # extract columns from joined song and log datasets to create songplays table \n",
    "    songplays_table = log_data_df.join(song_df, song_df.artist_name == log_data_df.artist, \"inner\") \\\n",
    "        .distinct() \\\n",
    "        .select(col(\"start_time\"), col(\"userId\"), col(\"level\"), col(\"sessionId\"), col(\"location\"), \\\n",
    "                col(\"userAgent\"), col(\"song_id\"), col(\"artist_id\"), col(\"year\"), col(\"month\")) \\\n",
    "        .withColumn(\"songplay_id\", monotonically_increasing_id())\n",
    "\n",
    "    # write songplays table to parquet files partitioned by year and month\n",
    "    songplays_table.write.partitionBy(\"year\", \"month\").parquet(output_data + 'songplays_table/')\n"
   ]
  },
  {
   "cell_type": "code",
   "execution_count": 24,
   "metadata": {
    "editable": true
   },
   "outputs": [],
   "source": [
    "def main():\n",
    "    spark = create_spark_session()\n",
    "\n",
    "    # song_input_data = \"data/song_data/\"\n",
    "    # log_input_data = \"data/log_data/\"\n",
    "    # output_data = \"data/output_data/\"\n",
    "\n",
    "\n",
    "    song_input_data = \"s3a://udacity-dend/song-data/\"\n",
    "    log_input_data = \"s3a://udacity-dend/log-data/\"\n",
    "    output_data = \"s3://btdend/output_data/\"\n",
    "\n",
    "    process_song_data(spark, song_input_data, output_data)    \n",
    "    process_log_data(spark, log_input_data, output_data)\n"
   ]
  },
  {
   "cell_type": "code",
   "execution_count": 25,
   "metadata": {
    "editable": true
   },
   "outputs": [],
   "source": [
    "if __name__ == \"__main__\":\n",
    "    main()\n"
   ]
  },
  {
   "cell_type": "code",
   "execution_count": null,
   "metadata": {
    "editable": true
   },
   "outputs": [],
   "source": []
  }
 ],
 "metadata": {
  "kernelspec": {
   "display_name": "Python 3",
   "language": "python",
   "name": "python3"
  },
  "language_info": {
   "codemirror_mode": {
    "name": "ipython",
    "version": 3
   },
   "file_extension": ".py",
   "mimetype": "text/x-python",
   "name": "python",
   "nbconvert_exporter": "python",
   "pygments_lexer": "ipython3",
   "version": "3.6.3"
  }
 },
 "nbformat": 4,
 "nbformat_minor": 4
}
