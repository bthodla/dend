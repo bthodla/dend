{
 "cells": [
  {
   "cell_type": "markdown",
   "metadata": {
    "editable": true
   },
   "source": [
    "# Part I. ETL Pipeline for Pre-Processing the Files"
   ]
  },
  {
   "cell_type": "markdown",
   "metadata": {
    "editable": true
   },
   "source": [
    "## PLEASE RUN THE FOLLOWING CODE FOR PRE-PROCESSING THE FILES"
   ]
  },
  {
   "cell_type": "markdown",
   "metadata": {
    "editable": true
   },
   "source": [
    "#### Import Python packages "
   ]
  },
  {
   "cell_type": "code",
   "execution_count": 1,
   "metadata": {
    "editable": true
   },
   "outputs": [],
   "source": [
    "# Import Python packages \n",
    "import pandas as pd\n",
    "import cassandra\n",
    "import re\n",
    "import os\n",
    "import glob\n",
    "import numpy as np\n",
    "import json\n",
    "import csv\n",
    "from prettytable import PrettyTable"
   ]
  },
  {
   "cell_type": "markdown",
   "metadata": {
    "editable": true
   },
   "source": [
    "#### Creating list of filepaths to process original event csv data files"
   ]
  },
  {
   "cell_type": "code",
   "execution_count": 2,
   "metadata": {
    "editable": true
   },
   "outputs": [
    {
     "name": "stdout",
     "output_type": "stream",
     "text": [
      "/home/workspace\n",
      "['/home/workspace/event_data/2018-11-30-events.csv', '/home/workspace/event_data/2018-11-23-events.csv', '/home/workspace/event_data/2018-11-22-events.csv', '/home/workspace/event_data/2018-11-29-events.csv', '/home/workspace/event_data/2018-11-11-events.csv', '/home/workspace/event_data/2018-11-14-events.csv', '/home/workspace/event_data/2018-11-20-events.csv', '/home/workspace/event_data/2018-11-15-events.csv', '/home/workspace/event_data/2018-11-05-events.csv', '/home/workspace/event_data/2018-11-28-events.csv', '/home/workspace/event_data/2018-11-25-events.csv', '/home/workspace/event_data/2018-11-16-events.csv', '/home/workspace/event_data/2018-11-18-events.csv', '/home/workspace/event_data/2018-11-24-events.csv', '/home/workspace/event_data/2018-11-04-events.csv', '/home/workspace/event_data/2018-11-19-events.csv', '/home/workspace/event_data/2018-11-26-events.csv', '/home/workspace/event_data/2018-11-12-events.csv', '/home/workspace/event_data/2018-11-27-events.csv', '/home/workspace/event_data/2018-11-06-events.csv', '/home/workspace/event_data/2018-11-09-events.csv', '/home/workspace/event_data/2018-11-03-events.csv', '/home/workspace/event_data/2018-11-21-events.csv', '/home/workspace/event_data/2018-11-07-events.csv', '/home/workspace/event_data/2018-11-01-events.csv', '/home/workspace/event_data/2018-11-13-events.csv', '/home/workspace/event_data/2018-11-17-events.csv', '/home/workspace/event_data/2018-11-08-events.csv', '/home/workspace/event_data/2018-11-10-events.csv', '/home/workspace/event_data/2018-11-02-events.csv']\n"
     ]
    }
   ],
   "source": [
    "# checking your current working directory\n",
    "print(os.getcwd())\n",
    "\n",
    "# Get your current folder and subfolder event data\n",
    "filepath = os.getcwd() + '/event_data'\n",
    "\n",
    "# Create a for loop to create a list of files and collect each filepath\n",
    "for root, dirs, files in os.walk(filepath):\n",
    "\n",
    "# join the file path and roots with the subdirectories using glob\n",
    "    file_path_list = glob.glob(os.path.join(root,'*'))\n",
    "    print(file_path_list)"
   ]
  },
  {
   "cell_type": "markdown",
   "metadata": {
    "editable": true
   },
   "source": [
    "#### Processing the files to create the data file csv that will be used for Apache Casssandra tables"
   ]
  },
  {
   "cell_type": "code",
   "execution_count": 3,
   "metadata": {
    "editable": true
   },
   "outputs": [
    {
     "name": "stdout",
     "output_type": "stream",
     "text": [
      "8056\n"
     ]
    }
   ],
   "source": [
    "# initiating an empty list of rows that will be generated from each file\n",
    "full_data_rows_list = [] \n",
    "    \n",
    "# for every filepath in the file path list \n",
    "for f in file_path_list:\n",
    "\n",
    "# reading csv file \n",
    "    with open(f, 'r', encoding = 'utf8', newline='') as csvfile: \n",
    "        # creating a csv reader object \n",
    "        csvreader = csv.reader(csvfile) \n",
    "        next(csvreader)\n",
    "        \n",
    " # extracting each data row one by one and append it        \n",
    "        for line in csvreader:\n",
    "            #print(line)\n",
    "            full_data_rows_list.append(line) \n",
    "            \n",
    "# uncomment the code below if you would like to get total number of rows \n",
    "print(len(full_data_rows_list))\n",
    "# uncomment the code below if you would like to check to see what the list of event data rows will look like\n",
    "# print(full_data_rows_list)\n",
    "\n",
    "# creating a smaller event data csv file called event_datafile_full csv that will be used to insert data into the \\\n",
    "# Apache Cassandra tables\n",
    "csv.register_dialect('myDialect', quoting=csv.QUOTE_ALL, skipinitialspace=True)\n",
    "\n",
    "with open('event_datafile_new.csv', 'w', encoding = 'utf8', newline='') as f:\n",
    "    writer = csv.writer(f, dialect='myDialect')\n",
    "    writer.writerow(['artist','firstName','gender','itemInSession','lastName','length',\\\n",
    "                'level','location','sessionId','song','userId'])\n",
    "    for row in full_data_rows_list:\n",
    "        if (row[0] == ''):\n",
    "            continue\n",
    "        writer.writerow((row[0], row[2], row[3], row[4], row[5], row[6], row[7], row[8], row[12], row[13], row[16]))\n"
   ]
  },
  {
   "cell_type": "code",
   "execution_count": 4,
   "metadata": {
    "editable": true
   },
   "outputs": [
    {
     "name": "stdout",
     "output_type": "stream",
     "text": [
      "6821\n"
     ]
    }
   ],
   "source": [
    "# check the number of rows in your csv file\n",
    "with open('event_datafile_new.csv', 'r', encoding = 'utf8') as f:\n",
    "    print(sum(1 for line in f))"
   ]
  },
  {
   "cell_type": "markdown",
   "metadata": {
    "editable": true
   },
   "source": [
    "# Part II. Complete the Apache Cassandra coding portion of your project. \n",
    "\n",
    "## Now you are ready to work with the CSV file titled <font color=red>event_datafile_new.csv</font>, located within the Workspace directory.  The event_datafile_new.csv contains the following columns: \n",
    "- artist \n",
    "- firstName of user\n",
    "- gender of user\n",
    "- item number in session\n",
    "- last name of user\n",
    "- length of the song\n",
    "- level (paid or free song)\n",
    "- location of the user\n",
    "- sessionId\n",
    "- song title\n",
    "- userId\n",
    "\n",
    "The image below is a screenshot of what the denormalized data should appear like in the <font color=red>**event_datafile_new.csv**</font> after the code above is run:<br>\n",
    "\n",
    "<img src=\"images/image_event_datafile_new.jpg\">"
   ]
  },
  {
   "cell_type": "markdown",
   "metadata": {
    "editable": true
   },
   "source": [
    "## Begin writing your Apache Cassandra code in the cells below"
   ]
  },
  {
   "cell_type": "markdown",
   "metadata": {
    "editable": true
   },
   "source": [
    "#### Creating a Cluster"
   ]
  },
  {
   "cell_type": "code",
   "execution_count": 5,
   "metadata": {
    "editable": true
   },
   "outputs": [],
   "source": [
    "# This should make a connection to a Cassandra instance your local machine \n",
    "# (127.0.0.1)\n",
    "host = '127.0.0.1'\n",
    "\n",
    "from cassandra.cluster import Cluster\n",
    "try: \n",
    "    cluster = Cluster([host]) #If you have a locally installed Apache Cassandra instance\n",
    "    # To establish connection and begin executing queries, need a session\n",
    "    session = cluster.connect()\n",
    "except Exception as e:\n",
    "    print(e)\n"
   ]
  },
  {
   "cell_type": "markdown",
   "metadata": {
    "editable": true
   },
   "source": [
    "#### Create Keyspace"
   ]
  },
  {
   "cell_type": "code",
   "execution_count": 6,
   "metadata": {
    "editable": true
   },
   "outputs": [],
   "source": [
    "# Create a keyspace if it does not already exist\n",
    "try:\n",
    "    session.execute(\"\"\"\n",
    "    CREATE KEYSPACE IF NOT EXISTS btproject2 \n",
    "    WITH REPLICATION = \n",
    "    { 'class' : 'SimpleStrategy', 'replication_factor' : 1 }\n",
    "    \"\"\"\n",
    ")\n",
    "except Exception as e:\n",
    "    print(e)"
   ]
  },
  {
   "cell_type": "markdown",
   "metadata": {
    "editable": true
   },
   "source": [
    "#### Set Keyspace"
   ]
  },
  {
   "cell_type": "code",
   "execution_count": 7,
   "metadata": {
    "editable": true
   },
   "outputs": [],
   "source": [
    "try:\n",
    "    session.set_keyspace(\"btproject2\")\n",
    "except Exception as e:\n",
    "    print(e)"
   ]
  },
  {
   "cell_type": "markdown",
   "metadata": {
    "editable": true
   },
   "source": [
    "### Now we need to create tables to run the following queries. Remember, with Apache Cassandra you model the database tables on the queries you want to run."
   ]
  },
  {
   "cell_type": "markdown",
   "metadata": {
    "editable": true
   },
   "source": [
    "## Create queries to ask the following three questions of the data\n",
    "\n",
    "### 1. Give me the artist, song title and song's length in the music app history that was heard during  sessionId = 338, and itemInSession  = 4\n",
    "\n",
    "\n",
    "### 2. Give me only the following: name of artist, song (sorted by itemInSession) and user (first and last name) for userid = 10, sessionid = 182\n",
    "    \n",
    "\n",
    "### 3. Give me every user name (first and last) in my music app history who listened to the song 'All Hands Against His Own'\n",
    "\n",
    "\n"
   ]
  },
  {
   "cell_type": "code",
   "execution_count": 9,
   "metadata": {
    "editable": true
   },
   "outputs": [],
   "source": [
    "# Creating table for Query 1\n",
    "create_table_qry1 = \"create table if not exists song_play_library \"\n",
    "create_table_qry1 = create_table_qry1 + \"(session_id int, item_in_session int, artist_name text, song_title text, \\\n",
    "    song_length float, primary key (session_id, item_in_session))\"\n",
    "try:\n",
    "    session.execute(create_table_qry1)\n",
    "except Exception as e:\n",
    "    print(e)\n",
    "         "
   ]
  },
  {
   "cell_type": "code",
   "execution_count": 10,
   "metadata": {
    "editable": true
   },
   "outputs": [
    {
     "name": "stdout",
     "output_type": "stream",
     "text": [
      "+------------+-------------------+-----------------+------------------+---------------+----------+-------+\n",
      "|  Keyspace  |       Table       |      Column     | Clustering Order |      Kind     | Position |  Type |\n",
      "+------------+-------------------+-----------------+------------------+---------------+----------+-------+\n",
      "| btproject2 | song_play_library |   artist_name   |       none       |    regular    |    -1    |  text |\n",
      "| btproject2 | song_play_library | item_in_session |       asc        |   clustering  |    0     |  int  |\n",
      "| btproject2 | song_play_library |    session_id   |       none       | partition_key |    0     |  int  |\n",
      "| btproject2 | song_play_library |   song_length   |       none       |    regular    |    -1    | float |\n",
      "| btproject2 | song_play_library |    song_title   |       none       |    regular    |    -1    |  text |\n",
      "+------------+-------------------+-----------------+------------------+---------------+----------+-------+\n"
     ]
    }
   ],
   "source": [
    "# Confirm that the table is created by querying metadata\n",
    "desc_qry = (\"select * from system_schema.columns where keyspace_name = 'btproject2' and table_name = 'song_play_library'\")\n",
    "try:\n",
    "    rows = session.execute(desc_qry)\n",
    "    pt = PrettyTable(['Keyspace', 'Table', 'Column', 'Clustering Order', 'Kind', 'Position', 'Type'])\n",
    "    for row in rows:\n",
    "        pt.add_row([row.keyspace_name, row.table_name, row.column_name, row.clustering_order, row.kind, row.position, row.type])\n",
    "\n",
    "    print(pt)\n",
    "except Exception as e:\n",
    "    print(e)\n"
   ]
  },
  {
   "cell_type": "code",
   "execution_count": 11,
   "metadata": {
    "editable": true
   },
   "outputs": [],
   "source": [
    "# Insert data into 'song_play_library' table from the combined CSV file picking the necessary columns\n",
    "file = 'event_datafile_new.csv'\n",
    "\n",
    "with open(file, encoding = 'utf8') as f:\n",
    "    csvreader = csv.reader(f)\n",
    "    next(csvreader) # skip header\n",
    "    for line in csvreader:\n",
    "        # print(type(line[8]), type(line[3]), type(line[0]), type(line[9]), type(line[5]))\n",
    "        insert_table_qry1 = \"insert into song_play_library (session_id, item_in_session, artist_name, song_title, song_length) \"\n",
    "        insert_table_qry1 = insert_table_qry1 + \"values (%s, %s, %s, %s, %s)\"\n",
    "        session.execute(insert_table_qry1, (int(line[8]), int(line[3]), line[0], line[9], float(line[5])))"
   ]
  },
  {
   "cell_type": "markdown",
   "metadata": {
    "editable": true
   },
   "source": [
    "#### Do a SELECT to verify that the data have been inserted into each table"
   ]
  },
  {
   "cell_type": "code",
   "execution_count": 12,
   "metadata": {
    "editable": true,
    "scrolled": true
   },
   "outputs": [
    {
     "name": "stdout",
     "output_type": "stream",
     "text": [
      "+------------+-----------------+-----------+---------------------------------+--------------------+\n",
      "| Session ID | Item in Session |   Artist  |               Song              |       Length       |\n",
      "+------------+-----------------+-----------+---------------------------------+--------------------+\n",
      "|    338     |        4        | Faithless | Music Matters (Mark Knight Dub) | 495.30731201171875 |\n",
      "+------------+-----------------+-----------+---------------------------------+--------------------+\n"
     ]
    }
   ],
   "source": [
    "# Query 1:  Select the artist, song title and song's length in the music app history \n",
    "# that was heard during sessionId = 338, and itemInSession = 4\n",
    "select_table_qry1 = \"select session_id, item_in_session, artist_name, song_title, song_length \\\n",
    "                    from song_play_library \\\n",
    "                    WHERE session_id = 338 \\\n",
    "                    and item_in_session = 4\"\n",
    "try:\n",
    "    rows = session.execute(select_table_qry1)\n",
    "except Exception as e:\n",
    "    print(e)\n",
    "\n",
    "pt = PrettyTable(['Session ID', 'Item in Session', 'Artist', 'Song', 'Length'])\n",
    "for row in rows:\n",
    "    pt.add_row([row.session_id, row.item_in_session, row.artist_name, row.song_title, row.song_length])\n",
    "\n",
    "print(pt)"
   ]
  },
  {
   "cell_type": "markdown",
   "metadata": {
    "editable": true
   },
   "source": [
    "### COPY AND REPEAT THE ABOVE THREE CELLS FOR EACH OF THE THREE QUESTIONS"
   ]
  },
  {
   "cell_type": "code",
   "execution_count": 13,
   "metadata": {
    "editable": true
   },
   "outputs": [],
   "source": [
    "# Creating table for Query 2\n",
    "create_table_qry2 = \"create table if not exists song_playlist_session \"\n",
    "create_table_qry2 = create_table_qry2 + \"(user_id int, session_id int, item_in_session int, artist_name text, song_title text, \\\n",
    "    user_fname text, user_lname text, primary key ((user_id, session_id), item_in_session))\"\n",
    "try:\n",
    "    session.execute(create_table_qry2)\n",
    "except Exception as e:\n",
    "    print(e)\n"
   ]
  },
  {
   "cell_type": "code",
   "execution_count": 14,
   "metadata": {
    "editable": true
   },
   "outputs": [
    {
     "name": "stdout",
     "output_type": "stream",
     "text": [
      "+------------+-----------------------+-----------------+------------------+---------------+----------+------+\n",
      "|  Keyspace  |         Table         |      Column     | Clustering Order |      Kind     | Position | Type |\n",
      "+------------+-----------------------+-----------------+------------------+---------------+----------+------+\n",
      "| btproject2 | song_playlist_session |   artist_name   |       none       |    regular    |    -1    | text |\n",
      "| btproject2 | song_playlist_session | item_in_session |       asc        |   clustering  |    0     | int  |\n",
      "| btproject2 | song_playlist_session |    session_id   |       none       | partition_key |    1     | int  |\n",
      "| btproject2 | song_playlist_session |    song_title   |       none       |    regular    |    -1    | text |\n",
      "| btproject2 | song_playlist_session |    user_fname   |       none       |    regular    |    -1    | text |\n",
      "| btproject2 | song_playlist_session |     user_id     |       none       | partition_key |    0     | int  |\n",
      "| btproject2 | song_playlist_session |    user_lname   |       none       |    regular    |    -1    | text |\n",
      "+------------+-----------------------+-----------------+------------------+---------------+----------+------+\n"
     ]
    }
   ],
   "source": [
    "# Confirm that the table is created by querying metadata\n",
    "desc_qry = (\"select * from system_schema.columns where keyspace_name = 'btproject2' and table_name = 'song_playlist_session'\")\n",
    "try:\n",
    "    rows = session.execute(desc_qry)\n",
    "    pt = PrettyTable(['Keyspace', 'Table', 'Column', 'Clustering Order', 'Kind', 'Position', 'Type'])\n",
    "    for row in rows:\n",
    "        pt.add_row([row.keyspace_name, row.table_name, row.column_name, row.clustering_order, row.kind, row.position, row.type])\n",
    "\n",
    "    print(pt)\n",
    "except Exception as e:\n",
    "    print(e)\n"
   ]
  },
  {
   "cell_type": "code",
   "execution_count": 15,
   "metadata": {
    "editable": true
   },
   "outputs": [],
   "source": [
    "# Insert data into 'song_playlist_session' table from the combined CSV file picking the necessary columns\n",
    "file = 'event_datafile_new.csv'\n",
    "\n",
    "with open(file, encoding = 'utf8') as f:\n",
    "    csvreader = csv.reader(f)\n",
    "    next(csvreader) # skip header\n",
    "    for line in csvreader:\n",
    "## TO-DO: Assign the INSERT statements into the `query` variable\n",
    "        # print(type(line[10]), type(line[8]), type(line[3]), type(line[0]), type(line[9]), type(line[1]), type(line[4]))\n",
    "        insert_table_qry2 = \"insert into song_playlist_session (user_id, session_id, item_in_session, artist_name, song_title, user_fname, user_lname) \"\n",
    "        insert_table_qry2 = insert_table_qry2 + \"values (%s, %s, %s, %s, %s, %s, %s)\"\n",
    "        ## TO-DO: Assign which column element should be assigned for each column in the INSERT statement.\n",
    "        ## For e.g., to INSERT artist_name and user first_name, you would change the code below to `line[0], line[1]`\n",
    "        session.execute(insert_table_qry2, (int(line[10]), int(line[8]), int(line[3]), line[0], line[9], line[1], line[4]))"
   ]
  },
  {
   "cell_type": "code",
   "execution_count": 16,
   "metadata": {
    "editable": true
   },
   "outputs": [
    {
     "name": "stdout",
     "output_type": "stream",
     "text": [
      "+-------------------+------------------------------------------------------+-----------------+----------------+\n",
      "|       Artist      |                         Song                         | User First Name | User Last Name |\n",
      "+-------------------+------------------------------------------------------+-----------------+----------------+\n",
      "|  Down To The Bone |                  Keep On Keepin' On                  |      Sylvie     |      Cruz      |\n",
      "|    Three Drives   |                     Greece 2000                      |      Sylvie     |      Cruz      |\n",
      "| Sebastien Tellier |                      Kilometer                       |      Sylvie     |      Cruz      |\n",
      "|   Lonnie Gordon   | Catch You Baby (Steve Pitron & Max Sanna Radio Edit) |      Sylvie     |      Cruz      |\n",
      "+-------------------+------------------------------------------------------+-----------------+----------------+\n"
     ]
    }
   ],
   "source": [
    "# Query 2: Select only the following: name of artist, song (sorted by itemInSession) and user (first and last name)\n",
    "# for userid = 10, sessionid = 182\n",
    "\n",
    "select_table_qry2 = \"select artist_name,song_title, user_fname, user_lname from song_playlist_session WHERE user_id = 10 and session_id = 182\"\n",
    "try:\n",
    "    rows = session.execute(select_table_qry2)\n",
    "except Exception as e:\n",
    "    print(e)\n",
    "\n",
    "pt = PrettyTable(['Artist', 'Song', 'User First Name', 'User Last Name'])\n",
    "for row in rows:\n",
    "    pt.add_row([row.artist_name, row.song_title, row.user_fname, row.user_lname])\n",
    "\n",
    "print(pt)\n"
   ]
  },
  {
   "cell_type": "code",
   "execution_count": 17,
   "metadata": {
    "editable": true
   },
   "outputs": [],
   "source": [
    "# Create table for Query 3\n",
    "create_table_qry3 = \"create table if not exists user_play_library \"\n",
    "create_table_qry3 = create_table_qry3 + \"(song_title text, user_id int, user_fname text, user_lname text, primary key (song_title, user_id))\"\n",
    "try:\n",
    "    session.execute(create_table_qry3)\n",
    "except Exception as e:\n",
    "    print(e)\n",
    "                    "
   ]
  },
  {
   "cell_type": "code",
   "execution_count": 18,
   "metadata": {
    "editable": true
   },
   "outputs": [
    {
     "name": "stdout",
     "output_type": "stream",
     "text": [
      "+------------+-------------------+------------+------------------+---------------+----------+------+\n",
      "|  Keyspace  |       Table       |   Column   | Clustering Order |      Kind     | Position | Type |\n",
      "+------------+-------------------+------------+------------------+---------------+----------+------+\n",
      "| btproject2 | user_play_library | song_title |       none       | partition_key |    0     | text |\n",
      "| btproject2 | user_play_library | user_fname |       none       |    regular    |    -1    | text |\n",
      "| btproject2 | user_play_library |  user_id   |       asc        |   clustering  |    0     | int  |\n",
      "| btproject2 | user_play_library | user_lname |       none       |    regular    |    -1    | text |\n",
      "+------------+-------------------+------------+------------------+---------------+----------+------+\n"
     ]
    }
   ],
   "source": [
    "# Confirm that the table is created by querying metadata\n",
    "desc_qry = (\"select * from system_schema.columns where keyspace_name = 'btproject2' and table_name = 'user_play_library'\")\n",
    "try:\n",
    "    rows = session.execute(desc_qry)\n",
    "    pt = PrettyTable(['Keyspace', 'Table', 'Column', 'Clustering Order', 'Kind', 'Position', 'Type'])\n",
    "    for row in rows:\n",
    "        pt.add_row([row.keyspace_name, row.table_name, row.column_name, row.clustering_order, row.kind, row.position, row.type])\n",
    "\n",
    "    print(pt)\n",
    "except Exception as e:\n",
    "    print(e)\n"
   ]
  },
  {
   "cell_type": "code",
   "execution_count": 19,
   "metadata": {
    "editable": true
   },
   "outputs": [],
   "source": [
    "# Insert data into 'user_play_library' table from the combined CSV file picking the necessary columns\n",
    "file = 'event_datafile_new.csv'\n",
    "\n",
    "with open(file, encoding = 'utf8') as f:\n",
    "    csvreader = csv.reader(f)\n",
    "    next(csvreader) # skip header\n",
    "    for line in csvreader:\n",
    "## TO-DO: Assign the INSERT statements into the `query` variable\n",
    "        # print(type(line[10]), type(line[8]), type(line[3]), type(line[0]), type(line[9]), type(line[1]), type(line[4]))\n",
    "        insert_table_qry3 = \"insert into user_play_library (song_title, user_id, user_fname, user_lname) \"\n",
    "        insert_table_qry3 = insert_table_qry3 + \"values (%s, %s, %s, %s)\"\n",
    "        ## TO-DO: Assign which column element should be assigned for each column in the INSERT statement.\n",
    "        ## For e.g., to INSERT artist_name and user first_name, you would change the code below to `line[0], line[1]`\n",
    "        session.execute(insert_table_qry3, (line[9], int(line[10]), line[1], line[4]))"
   ]
  },
  {
   "cell_type": "code",
   "execution_count": 20,
   "metadata": {
    "editable": true
   },
   "outputs": [
    {
     "name": "stdout",
     "output_type": "stream",
     "text": [
      "+-----------------+----------------+\n",
      "| User First Name | User Last Name |\n",
      "+-----------------+----------------+\n",
      "|    Jacqueline   |     Lynch      |\n",
      "|      Tegan      |     Levine     |\n",
      "|       Sara      |    Johnson     |\n",
      "+-----------------+----------------+\n"
     ]
    }
   ],
   "source": [
    "# Query 3: Select every user name (first and last) in the music app history who listened to the song 'All Hands Against His Own'\n",
    "select_table_qry3 = \"select user_fname, user_lname from user_play_library WHERE song_title = 'All Hands Against His Own'\"\n",
    "try:\n",
    "    rows = session.execute(select_table_qry3)\n",
    "except Exception as e:\n",
    "    print(e)\n",
    "\n",
    "pt = PrettyTable(['User First Name', 'User Last Name'])\n",
    "for row in rows:\n",
    "    pt.add_row([row.user_fname, row.user_lname])\n",
    "\n",
    "print(pt)\n"
   ]
  },
  {
   "cell_type": "markdown",
   "metadata": {
    "editable": true
   },
   "source": [
    "### Drop the tables before closing out the sessions"
   ]
  },
  {
   "cell_type": "code",
   "execution_count": 21,
   "metadata": {
    "editable": true
   },
   "outputs": [],
   "source": [
    "## TO-DO: Drop the table before closing out the sessions\n",
    "table_list = ['song_play_library', 'user_play_library', 'song_playlist_session']\n",
    "for table_name in table_list:\n",
    "    drop_table_qry = \"drop table if exists \" + table_name\n",
    "    try:\n",
    "        rows = session.execute(drop_table_qry)\n",
    "    except Exception as e:\n",
    "        print(e)\n"
   ]
  },
  {
   "cell_type": "markdown",
   "metadata": {
    "editable": true
   },
   "source": [
    "### Close the session and cluster connection¶"
   ]
  },
  {
   "cell_type": "code",
   "execution_count": 22,
   "metadata": {
    "editable": true
   },
   "outputs": [],
   "source": [
    "session.shutdown()\n",
    "cluster.shutdown()"
   ]
  },
  {
   "cell_type": "code",
   "execution_count": null,
   "metadata": {
    "editable": true
   },
   "outputs": [],
   "source": []
  }
 ],
 "metadata": {
  "kernelspec": {
   "display_name": "Python 3",
   "language": "python",
   "name": "python3"
  },
  "language_info": {
   "codemirror_mode": {
    "name": "ipython",
    "version": 3
   },
   "file_extension": ".py",
   "mimetype": "text/x-python",
   "name": "python",
   "nbconvert_exporter": "python",
   "pygments_lexer": "ipython3",
   "version": "3.6.3"
  }
 },
 "nbformat": 4,
 "nbformat_minor": 4
}
